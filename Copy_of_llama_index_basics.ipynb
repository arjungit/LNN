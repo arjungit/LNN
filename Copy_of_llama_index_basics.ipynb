{
  "cells": [
    {
      "cell_type": "markdown",
      "metadata": {
        "id": "view-in-github",
        "colab_type": "text"
      },
      "source": [
        "<a href=\"https://colab.research.google.com/github/arjungit/LNN/blob/master/Copy_of_llama_index_basics.ipynb\" target=\"_parent\"><img src=\"https://colab.research.google.com/assets/colab-badge.svg\" alt=\"Open In Colab\"/></a>"
      ]
    },
    {
      "cell_type": "markdown",
      "source": [
        "You will need to get a .txt file for this, you can find the data here --> https://github.com/jerryjliu/llama_index/tree/main/examples/paul_graham_essay/data\n",
        "\n",
        "Make sure you save the directory as `data` locally to get this code to work!\n",
        "\n",
        "I also use a `.env` file, you can directly put your OpenAI API key in if you'd like\n"
      ],
      "metadata": {
        "id": "Q01Rab7BMUeH"
      }
    },
    {
      "cell_type": "code",
      "source": [
        "! pip install llama-index python-dotenv"
      ],
      "metadata": {
        "id": "WMH-E9Y-MQha"
      },
      "execution_count": null,
      "outputs": []
    },
    {
      "cell_type": "code",
      "execution_count": null,
      "metadata": {
        "id": "4WOO--_xLxam"
      },
      "outputs": [],
      "source": [
        "from llama_index import GPTVectorStoreIndex, SimpleDirectoryReader\n",
        "from dotenv import load_dotenv\n",
        "import os"
      ]
    },
    {
      "cell_type": "code",
      "execution_count": null,
      "metadata": {
        "id": "Wvmn-MYOLxan"
      },
      "outputs": [],
      "source": [
        "load_dotenv()\n",
        "open_api_key = os.getenv(\"OPENAI_API_KEY\")"
      ]
    },
    {
      "cell_type": "code",
      "execution_count": null,
      "metadata": {
        "id": "O6GdPi4NLxao"
      },
      "outputs": [],
      "source": [
        "documents = SimpleDirectoryReader('data').load_data()\n",
        "index = GPTVectorStoreIndex.from_documents(documents)"
      ]
    },
    {
      "cell_type": "code",
      "execution_count": null,
      "metadata": {
        "id": "u0DljMFSLxao"
      },
      "outputs": [],
      "source": [
        "query_engine = index.as_query_engine()\n",
        "response=query_engine.query(\"What did the author do growing up?\")"
      ]
    },
    {
      "cell_type": "code",
      "execution_count": null,
      "metadata": {
        "id": "qqmnBc5gLxao"
      },
      "outputs": [],
      "source": [
        "print(response)"
      ]
    },
    {
      "cell_type": "code",
      "execution_count": null,
      "metadata": {
        "id": "Xq2LZfMvLxao"
      },
      "outputs": [],
      "source": [
        "import logging\n",
        "import sys\n",
        "\n",
        "logging.basicConfig(stream=sys.stdout, level=logging.DEBUG)\n",
        "logging.getLogger().addHandler(logging.StreamHandler(stream=sys.stdout))"
      ]
    },
    {
      "cell_type": "code",
      "execution_count": null,
      "metadata": {
        "id": "scBz6yAyLxao"
      },
      "outputs": [],
      "source": [
        "index.storage_context.persist()"
      ]
    },
    {
      "cell_type": "code",
      "execution_count": null,
      "metadata": {
        "id": "7T_cz9qwLxao"
      },
      "outputs": [],
      "source": [
        "from llama_index import StorageContext, load_index_from_storage\n",
        "\n",
        "# rebuild storage context\n",
        "storage_context = StorageContext.from_defaults(persist_dir=\"./storage\")\n",
        "# load index\n",
        "index = load_index_from_storage(storage_context)"
      ]
    },
    {
      "cell_type": "code",
      "execution_count": null,
      "metadata": {
        "id": "Cp1nY-gxLxap"
      },
      "outputs": [],
      "source": []
    }
  ],
  "metadata": {
    "kernelspec": {
      "display_name": "li_env",
      "language": "python",
      "name": "python3"
    },
    "language_info": {
      "codemirror_mode": {
        "name": "ipython",
        "version": 3
      },
      "file_extension": ".py",
      "mimetype": "text/x-python",
      "name": "python",
      "nbconvert_exporter": "python",
      "pygments_lexer": "ipython3",
      "version": "3.10.11"
    },
    "orig_nbformat": 4,
    "colab": {
      "provenance": [],
      "include_colab_link": true
    }
  },
  "nbformat": 4,
  "nbformat_minor": 0
}